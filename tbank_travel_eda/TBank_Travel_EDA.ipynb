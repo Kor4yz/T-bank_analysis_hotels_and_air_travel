{
 "cells": [
  {
   "cell_type": "markdown",
   "id": "182482d4",
   "metadata": {},
   "source": [
    "# Т-Банк: отели и авиабилеты — EDA\n",
    "**Файл:** dano_dataset_travel.csv` **Период:** 2024-01-01 — 2024-11-07"
   ]
  },
  {
   "cell_type": "code",
   "execution_count": null,
   "id": "c144e946",
   "metadata": {},
   "outputs": [],
   "source": [
    "\n",
    "import pandas as pd, numpy as np, matplotlib.pyplot as plt\n",
    "\n",
    "df = pd.read_csv(\"dano_dataset_travel.csv\", sep=\";\", encoding=\"utf-8\", low_memory=False)\n",
    "\n",
    "\n",
    "DATE_COLS = ['party_first_order_dt', 'party_first_order_type_dt', 'free_cancel_booking_dttm', 'created_dttm', 'cancel_dttm', 'book_start_dttm', 'local_book_start_dttm', 'book_end_dttm', 'last_sms_dt', 'last_email_send_dt', 'last_session_dttm']\n",
    "for c in DATE_COLS:\n",
    "    if c in df.columns: df[c] = pd.to_datetime(df[c], errors=\"coerce\")\n",
    "\n",
    "NUM_COLS = ['promo_code_discount_amt', 'loyalty_accrual_rub_amt', 'nominal_price_eur_amt', 'nominal_price_rub_amt', 'monthly_income_amt']\n",
    "def coerce_numeric(s):\n",
    "    return pd.to_numeric(s.astype(str).str.replace(\" \",\"\").str.replace(\"\\xa0\",\"\").str.replace(\",\", \".\"),\n",
    "                         errors=\"coerce\")\n",
    "for c in NUM_COLS:\n",
    "    if c in df.columns: df[c] = coerce_numeric(df[c])\n",
    "\n",
    "\n",
    "FLAG_COLS = [c for c in df.columns if c.endswith(\"_flg\")]\n",
    "for c in FLAG_COLS:\n",
    "    df[c] = pd.to_numeric(df[c].astype(str).str.replace(\",\", \".\"), errors=\"coerce\")\n",
    "    df[c] = (df[c].fillna(0) > 0)\n",
    "\n",
    "\n",
    "df[\"order_type\"] = df.get(\"order_type_cd\").map({\"AIR\":\"Авиабилеты\",\"HOT\":\"Отели\"}).fillna(df.get(\"order_type_cd\"))\n",
    "df[\"is_success\"] = df.get(\"order_status_cd\",\"\").eq(\"SUC\")\n",
    "df[\"order_month\"] = df[\"created_dttm\"].dt.to_period(\"M\").astype(str)\n",
    "\n",
    "\n",
    "df[\"lead_time_days\"] = (df[\"book_start_dttm\"] - df[\"created_dttm\"]).dt.days if \"book_start_dttm\" in df.columns else np.nan\n",
    "if \"book_end_dttm\" in df.columns and \"book_start_dttm\" in df.columns:\n",
    "    df[\"stay_nights\"] = (df[\"book_end_dttm\"] - df[\"book_start_dttm\"]).dt.days\n",
    "    df.loc[df.get(\"order_type_cd\")!=\"HOT\", \"stay_nights\"] = np.nan\n",
    "\n",
    "df.info()\n"
   ]
  },
  {
   "cell_type": "markdown",
   "id": "2297ed3c",
   "metadata": {},
   "source": [
    "## Сводка и графики"
   ]
  },
  {
   "cell_type": "code",
   "execution_count": null,
   "id": "72a45cd2",
   "metadata": {},
   "outputs": [],
   "source": [
    "df.groupby(\"order_type\").agg(orders=(\"order_rk\",\"count\"), success_rate=(\"is_success\",\"mean\"), avg_price_rub=(\"nominal_price_rub_amt\",\"mean\"))"
   ]
  },
  {
   "cell_type": "code",
   "execution_count": null,
   "id": "f796a0be",
   "metadata": {},
   "outputs": [],
   "source": [
    "df.groupby([\"order_month\",\"order_type\"])[\"order_rk\"].count().unstack(fill_value=0).plot(marker=\"o\"); plt.title(\"Динамика заказов по месяцам\"); plt.xticks(rotation=45); plt.tight_layout()"
   ]
  },
  {
   "cell_type": "code",
   "execution_count": null,
   "id": "2f1eb49a",
   "metadata": {},
   "outputs": [],
   "source": [
    "(df.groupby(\"order_type\")[\"is_success\"].mean()*100).plot(kind=\"bar\"); plt.title(\"SUC-rate, %\"); plt.tight_layout()"
   ]
  },
  {
   "cell_type": "markdown",
   "id": "883b7bbb",
   "metadata": {},
   "source": [
    "## Гипотезы\n",
    "- Показывать промо-коды пользователям с коротким лид-таймом (≤3 дня) → рост конверсии last-minute.\n",
    "- Упростить оплату до one-click для лояльных (bundle Pro/Premium, участники LP) → рост SUC-rate, меньше дропа.\n",
    "- Показывать пакеты «авиабилет+отель» в поиске/корзине → рост AOV и кросс-продаж.\n",
    "\n",
    "**Выбор:** Показывать пакеты «авиабилет+отель» в поиске/корзине → рост AOV и кросс-продаж."
   ]
  }
 ],
 "metadata": {
  "language_info": {
   "name": "python",
   "version": "3.8.10"
  }
 },
 "nbformat": 4,
 "nbformat_minor": 5
}

